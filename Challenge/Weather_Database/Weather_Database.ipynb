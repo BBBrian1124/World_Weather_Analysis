{
 "cells": [
  {
   "cell_type": "markdown",
   "metadata": {},
   "source": [
    "# Import and Setup"
   ]
  },
  {
   "cell_type": "code",
   "execution_count": 1,
   "metadata": {},
   "outputs": [],
   "source": [
    "# Import the dependencies.\n",
    "import pandas as pd\n",
    "import matplotlib.pyplot as plt\n",
    "import numpy as np"
   ]
  },
  {
   "cell_type": "code",
   "execution_count": 2,
   "metadata": {},
   "outputs": [
    {
     "data": {
      "text/plain": [
       "<zip at 0xcc67983d48>"
      ]
     },
     "execution_count": 2,
     "metadata": {},
     "output_type": "execute_result"
    }
   ],
   "source": [
    "# Create a set of random latitude and longitude combinations.\n",
    "# Using np.random.uniform we generate 2000 random values within the range low and high to use as lat and long\n",
    "lats = np.random.uniform(low=-90.000, high=90.000, size=2000)\n",
    "lngs = np.random.uniform(low=-180.000, high=180.000, size=2000)\n",
    "lat_lngs = zip(lats, lngs)\n",
    "lat_lngs"
   ]
  },
  {
   "cell_type": "code",
   "execution_count": 3,
   "metadata": {},
   "outputs": [],
   "source": [
    "# Add the latitudes and longitudes to a list which we can loop through later\n",
    "coordinates = list(lat_lngs)"
   ]
  },
  {
   "cell_type": "code",
   "execution_count": 4,
   "metadata": {},
   "outputs": [
    {
     "data": {
      "text/plain": [
       "759"
      ]
     },
     "execution_count": 4,
     "metadata": {},
     "output_type": "execute_result"
    }
   ],
   "source": [
    "# Use the citipy module to determine city based on latitude and longitude.\n",
    "from citipy import citipy\n",
    "\n",
    "# Create a list to hold the cities.\n",
    "cities = []\n",
    "# Loop through our list of coordinates and obtain the city name by using the citipy module\n",
    "for coordinate in coordinates:\n",
    "    city = citipy.nearest_city(coordinate[0], coordinate[1]).city_name\n",
    "\n",
    "    # If the city is unique, then we will add it to the cities list.\n",
    "    if city not in cities:\n",
    "        cities.append(city)\n",
    "# Print the city count to confirm sufficient count.\n",
    "len(cities)"
   ]
  },
  {
   "cell_type": "markdown",
   "metadata": {},
   "source": [
    "# API Call"
   ]
  },
  {
   "cell_type": "code",
   "execution_count": 5,
   "metadata": {},
   "outputs": [],
   "source": [
    "# Import the requests library to be able to call the API\n",
    "import requests\n",
    "\n",
    "# Import the API key from our config.py file \n",
    "from config import weather_api_key\n",
    "\n",
    "# Starting URL for Weather Map API Call.\n",
    "# when making the call we need to adhere to the format specified by the site\n",
    "# i.e. https://openweathermap.org/current\n",
    "# i.e. one of the specifications is unit which can be imperial, metric or standard \n",
    "url = \"http://api.openweathermap.org/data/2.5/weather?units=Imperial&APPID=\" + weather_api_key"
   ]
  },
  {
   "cell_type": "code",
   "execution_count": 6,
   "metadata": {},
   "outputs": [
    {
     "name": "stdout",
     "output_type": "stream",
     "text": [
      "Beginning Data Retrieval     \n",
      "-----------------------------\n",
      "City not found. Skipping...\n",
      "City not found. Skipping...\n",
      "City not found. Skipping...\n",
      "City not found. Skipping...\n",
      "City not found. Skipping...\n",
      "City not found. Skipping...\n",
      "City not found. Skipping...\n",
      "City not found. Skipping...\n",
      "City not found. Skipping...\n",
      "City not found. Skipping...\n",
      "City not found. Skipping...\n",
      "City not found. Skipping...\n",
      "City not found. Skipping...\n",
      "City not found. Skipping...\n",
      "City not found. Skipping...\n",
      "City not found. Skipping...\n",
      "City not found. Skipping...\n",
      "City not found. Skipping...\n",
      "City not found. Skipping...\n",
      "City not found. Skipping...\n",
      "City not found. Skipping...\n",
      "City not found. Skipping...\n",
      "City not found. Skipping...\n",
      "City not found. Skipping...\n",
      "City not found. Skipping...\n",
      "City not found. Skipping...\n",
      "City not found. Skipping...\n",
      "City not found. Skipping...\n",
      "City not found. Skipping...\n",
      "City not found. Skipping...\n",
      "City not found. Skipping...\n",
      "City not found. Skipping...\n",
      "City not found. Skipping...\n",
      "City not found. Skipping...\n",
      "City not found. Skipping...\n",
      "City not found. Skipping...\n",
      "City not found. Skipping...\n",
      "City not found. Skipping...\n",
      "City not found. Skipping...\n",
      "City not found. Skipping...\n",
      "City not found. Skipping...\n",
      "City not found. Skipping...\n",
      "City not found. Skipping...\n",
      "City not found. Skipping...\n",
      "City not found. Skipping...\n",
      "City not found. Skipping...\n",
      "City not found. Skipping...\n",
      "City not found. Skipping...\n",
      "City not found. Skipping...\n",
      "City not found. Skipping...\n",
      "City not found. Skipping...\n",
      "City not found. Skipping...\n",
      "City not found. Skipping...\n",
      "City not found. Skipping...\n",
      "City not found. Skipping...\n",
      "-----------------------------\n",
      "Data Retrieval Complete      \n",
      "-----------------------------\n"
     ]
    }
   ],
   "source": [
    "# Create an empty list to hold the weather data.\n",
    "city_data = []\n",
    "\n",
    "# Print the beginning of the logging.\n",
    "print(\"Beginning Data Retrieval     \")\n",
    "print(\"-----------------------------\")\n",
    "\n",
    "# Loop through our list of cities \n",
    "for i, city in enumerate(cities):\n",
    "    # Define the city_name for the query, and replace spaces with \"+\" so the URL works \n",
    "    city_url = url + \"&q=\" + city.replace(\" \",\"+\")\n",
    "    \n",
    "    # Run an API request for each of the cities.\n",
    "    try:\n",
    "        # Get the info from the URL and store it in json format\n",
    "        city_weather = requests.get(city_url).json()\n",
    "        # Country\n",
    "        city_country = city_weather[\"sys\"][\"country\"]\n",
    "        # Latitude and longitude\n",
    "        city_lat = city_weather[\"coord\"][\"lat\"]\n",
    "        city_lng = city_weather[\"coord\"][\"lon\"]\n",
    "        # Maximum temperature\n",
    "        city_max_temp = city_weather[\"main\"][\"temp_max\"]\n",
    "        # Percent humidity\n",
    "        city_humidity = city_weather[\"main\"][\"humidity\"]\n",
    "        # Percent cloudiness\n",
    "        city_clouds = city_weather[\"clouds\"][\"all\"]\n",
    "        # Wind speed\n",
    "        city_wind = city_weather[\"wind\"][\"speed\"]\n",
    "        # Weather description (for example, clouds, fog, light rain, clear sky)\n",
    "        city_description = city_weather['weather'][0]['description']\n",
    "        # Append the city information into city_data list.\n",
    "        # We append the city_data with a dictionary for that city, with the key:value pairs defined as follows \n",
    "        city_data.append({\"City\": city.title(),\n",
    "                          \"Country\": city_country,\n",
    "                          \"Lat\": city_lat,\n",
    "                          \"Lng\": city_lng,\n",
    "                          \"Max Temp\": city_max_temp,\n",
    "                          \"Humidity\": city_humidity,\n",
    "                          \"Cloudiness\": city_clouds,\n",
    "                          \"Wind Speed\": city_wind,\n",
    "                          \"Current Description\":city_description})\n",
    "\n",
    "# If an error is experienced, skip the city.\n",
    "    # If there is no weather data for the city, i.e. , a <Response [404]> then there is no weather to retrieve \n",
    "    # City not found. Skipping... is printed.\n",
    "    # pass statement, which is a general purpose statement to handle all errors encountered and to allow the program to continue\n",
    "    except:\n",
    "        print(\"City not found. Skipping...\")\n",
    "        pass\n",
    "\n",
    "# Indicate that Data Loading is complete.\n",
    "# closing print statement, which will let us know the data retrieval has been completed\n",
    "print(\"-----------------------------\")\n",
    "print(\"Data Retrieval Complete      \")\n",
    "print(\"-----------------------------\")"
   ]
  },
  {
   "cell_type": "code",
   "execution_count": 7,
   "metadata": {},
   "outputs": [
    {
     "data": {
      "text/plain": [
       "704"
      ]
     },
     "execution_count": 7,
     "metadata": {},
     "output_type": "execute_result"
    }
   ],
   "source": [
    "# Check that we returned results \n",
    "# It would make sense for this to be slightly smaller than the original city list since some won't have results found\n",
    "len_city_data = len(city_data)\n",
    "len_city_data"
   ]
  },
  {
   "cell_type": "markdown",
   "metadata": {},
   "source": [
    "# Creating and Exporting the DataFrame"
   ]
  },
  {
   "cell_type": "code",
   "execution_count": 8,
   "metadata": {},
   "outputs": [
    {
     "data": {
      "text/html": [
       "<div>\n",
       "<style scoped>\n",
       "    .dataframe tbody tr th:only-of-type {\n",
       "        vertical-align: middle;\n",
       "    }\n",
       "\n",
       "    .dataframe tbody tr th {\n",
       "        vertical-align: top;\n",
       "    }\n",
       "\n",
       "    .dataframe thead th {\n",
       "        text-align: right;\n",
       "    }\n",
       "</style>\n",
       "<table border=\"1\" class=\"dataframe\">\n",
       "  <thead>\n",
       "    <tr style=\"text-align: right;\">\n",
       "      <th></th>\n",
       "      <th>City</th>\n",
       "      <th>Country</th>\n",
       "      <th>Lat</th>\n",
       "      <th>Lng</th>\n",
       "      <th>Max Temp</th>\n",
       "      <th>Humidity</th>\n",
       "      <th>Cloudiness</th>\n",
       "      <th>Wind Speed</th>\n",
       "      <th>Current Description</th>\n",
       "    </tr>\n",
       "  </thead>\n",
       "  <tbody>\n",
       "    <tr>\n",
       "      <th>0</th>\n",
       "      <td>Rikitea</td>\n",
       "      <td>PF</td>\n",
       "      <td>-23.1203</td>\n",
       "      <td>-134.9692</td>\n",
       "      <td>78.82</td>\n",
       "      <td>73</td>\n",
       "      <td>100</td>\n",
       "      <td>18.32</td>\n",
       "      <td>light rain</td>\n",
       "    </tr>\n",
       "    <tr>\n",
       "      <th>1</th>\n",
       "      <td>Port Shepstone</td>\n",
       "      <td>ZA</td>\n",
       "      <td>-30.7414</td>\n",
       "      <td>30.4550</td>\n",
       "      <td>71.74</td>\n",
       "      <td>72</td>\n",
       "      <td>100</td>\n",
       "      <td>5.12</td>\n",
       "      <td>overcast clouds</td>\n",
       "    </tr>\n",
       "    <tr>\n",
       "      <th>2</th>\n",
       "      <td>Arraial Do Cabo</td>\n",
       "      <td>BR</td>\n",
       "      <td>-22.9661</td>\n",
       "      <td>-42.0278</td>\n",
       "      <td>74.26</td>\n",
       "      <td>74</td>\n",
       "      <td>18</td>\n",
       "      <td>19.24</td>\n",
       "      <td>few clouds</td>\n",
       "    </tr>\n",
       "    <tr>\n",
       "      <th>3</th>\n",
       "      <td>Comodoro Rivadavia</td>\n",
       "      <td>AR</td>\n",
       "      <td>-45.8667</td>\n",
       "      <td>-67.5000</td>\n",
       "      <td>53.60</td>\n",
       "      <td>87</td>\n",
       "      <td>75</td>\n",
       "      <td>2.30</td>\n",
       "      <td>light intensity drizzle</td>\n",
       "    </tr>\n",
       "    <tr>\n",
       "      <th>4</th>\n",
       "      <td>Talara</td>\n",
       "      <td>PE</td>\n",
       "      <td>-4.5772</td>\n",
       "      <td>-81.2719</td>\n",
       "      <td>71.46</td>\n",
       "      <td>77</td>\n",
       "      <td>26</td>\n",
       "      <td>12.62</td>\n",
       "      <td>scattered clouds</td>\n",
       "    </tr>\n",
       "    <tr>\n",
       "      <th>5</th>\n",
       "      <td>Ribeira Grande</td>\n",
       "      <td>PT</td>\n",
       "      <td>38.5167</td>\n",
       "      <td>-28.7000</td>\n",
       "      <td>58.48</td>\n",
       "      <td>77</td>\n",
       "      <td>13</td>\n",
       "      <td>14.09</td>\n",
       "      <td>few clouds</td>\n",
       "    </tr>\n",
       "    <tr>\n",
       "      <th>6</th>\n",
       "      <td>Olinda</td>\n",
       "      <td>BR</td>\n",
       "      <td>-8.0089</td>\n",
       "      <td>-34.8553</td>\n",
       "      <td>78.80</td>\n",
       "      <td>78</td>\n",
       "      <td>40</td>\n",
       "      <td>4.61</td>\n",
       "      <td>scattered clouds</td>\n",
       "    </tr>\n",
       "    <tr>\n",
       "      <th>7</th>\n",
       "      <td>Palwal</td>\n",
       "      <td>IN</td>\n",
       "      <td>28.1500</td>\n",
       "      <td>77.3333</td>\n",
       "      <td>87.80</td>\n",
       "      <td>19</td>\n",
       "      <td>0</td>\n",
       "      <td>9.22</td>\n",
       "      <td>dust</td>\n",
       "    </tr>\n",
       "    <tr>\n",
       "      <th>8</th>\n",
       "      <td>Brownwood</td>\n",
       "      <td>US</td>\n",
       "      <td>31.7093</td>\n",
       "      <td>-98.9912</td>\n",
       "      <td>39.20</td>\n",
       "      <td>65</td>\n",
       "      <td>75</td>\n",
       "      <td>8.12</td>\n",
       "      <td>broken clouds</td>\n",
       "    </tr>\n",
       "    <tr>\n",
       "      <th>9</th>\n",
       "      <td>Victoria</td>\n",
       "      <td>HK</td>\n",
       "      <td>22.2855</td>\n",
       "      <td>114.1577</td>\n",
       "      <td>82.99</td>\n",
       "      <td>77</td>\n",
       "      <td>73</td>\n",
       "      <td>1.01</td>\n",
       "      <td>broken clouds</td>\n",
       "    </tr>\n",
       "  </tbody>\n",
       "</table>\n",
       "</div>"
      ],
      "text/plain": [
       "                 City Country      Lat       Lng  Max Temp  Humidity  \\\n",
       "0             Rikitea      PF -23.1203 -134.9692     78.82        73   \n",
       "1      Port Shepstone      ZA -30.7414   30.4550     71.74        72   \n",
       "2     Arraial Do Cabo      BR -22.9661  -42.0278     74.26        74   \n",
       "3  Comodoro Rivadavia      AR -45.8667  -67.5000     53.60        87   \n",
       "4              Talara      PE  -4.5772  -81.2719     71.46        77   \n",
       "5      Ribeira Grande      PT  38.5167  -28.7000     58.48        77   \n",
       "6              Olinda      BR  -8.0089  -34.8553     78.80        78   \n",
       "7              Palwal      IN  28.1500   77.3333     87.80        19   \n",
       "8           Brownwood      US  31.7093  -98.9912     39.20        65   \n",
       "9            Victoria      HK  22.2855  114.1577     82.99        77   \n",
       "\n",
       "   Cloudiness  Wind Speed      Current Description  \n",
       "0         100       18.32               light rain  \n",
       "1         100        5.12          overcast clouds  \n",
       "2          18       19.24               few clouds  \n",
       "3          75        2.30  light intensity drizzle  \n",
       "4          26       12.62         scattered clouds  \n",
       "5          13       14.09               few clouds  \n",
       "6          40        4.61         scattered clouds  \n",
       "7           0        9.22                     dust  \n",
       "8          75        8.12            broken clouds  \n",
       "9          73        1.01            broken clouds  "
      ]
     },
     "execution_count": 8,
     "metadata": {},
     "output_type": "execute_result"
    }
   ],
   "source": [
    "# Convert the array of dictionaries to a Pandas DataFrame.\n",
    "city_data_df = pd.DataFrame(city_data)\n",
    "city_data_df.head(10)"
   ]
  },
  {
   "cell_type": "code",
   "execution_count": 9,
   "metadata": {},
   "outputs": [],
   "source": [
    "# Create the output file (CSV).\n",
    "output_data_file = \"WeatherPy_Database.csv\"\n",
    "# Export the City_Data into a CSV.\n",
    "# The last line in the code block will export the DataFrame to a CSV file, with the index label (or column A) header as \"City_ID.\" \n",
    "# If we ever need to export the CSV file to a DataFrame, that header will be present in the DataFrame\n",
    "city_data_df.to_csv(output_data_file, index_label=\"City_ID\")"
   ]
  },
  {
   "cell_type": "code",
   "execution_count": null,
   "metadata": {},
   "outputs": [],
   "source": []
  }
 ],
 "metadata": {
  "kernelspec": {
   "display_name": "PythonData",
   "language": "python",
   "name": "pythondata"
  },
  "language_info": {
   "codemirror_mode": {
    "name": "ipython",
    "version": 3
   },
   "file_extension": ".py",
   "mimetype": "text/x-python",
   "name": "python",
   "nbconvert_exporter": "python",
   "pygments_lexer": "ipython3",
   "version": "3.7.9"
  }
 },
 "nbformat": 4,
 "nbformat_minor": 4
}
